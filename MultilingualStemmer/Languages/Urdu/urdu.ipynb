{
 "cells": [
  {
   "cell_type": "code",
   "execution_count": 4,
   "metadata": {},
   "outputs": [],
   "source": [
    "import re\n",
    "\n",
    "allUrduAffixes = {}\n",
    "wrongGuessedStem = {}\n",
    "totalWords = 0\n",
    "totalCorrectGuessed = 0\n",
    "\n",
    "urduPrefixes = ['بے', 'بد', 'لا', 'ے', 'نا', 'با', 'کم', 'ان', 'اہل', 'کم']\n",
    "urduSuffixes = ['دار', 'وں', 'یاں', 'یں', 'ات', 'گوار', 'ور', 'پسند']\n",
    "\n",
    "# Removes space form a urdu word \n",
    "def remove(string):\n",
    "    return string.replace(\" \", \"\")\n",
    "\n"
   ]
  },
  {
   "cell_type": "code",
   "execution_count": 12,
   "metadata": {},
   "outputs": [],
   "source": [
    "# Opening the file which contains all urdu words and their respective stems\n",
    "urduFile = open(\"urdu-affixes.txt\", \"r\", encoding=\"utf-8\")\n",
    "for urduWord in urduFile:\n",
    "    totalWords = totalWords + 1\n",
    "    x = urduWord.splitlines()    \n",
    "    x = x[0].split('\\t\\t')\n",
    "    # Adding real word and its real stem in allUrduAffixes dictionary\n",
    "    allUrduAffixes[x[0]] = x[1]"
   ]
  },
  {
   "cell_type": "code",
   "execution_count": 14,
   "metadata": {},
   "outputs": [
    {
     "data": {
      "text/plain": [
       "{'بدبو': 'بو',\n",
       " 'بدچلن': 'چلن',\n",
       " 'بدکردار': 'کردار',\n",
       " 'بدمزاج': 'مزاج',\n",
       " 'بدزائقہ': 'زائقہ',\n",
       " 'بےوجہ': 'وجہ',\n",
       " 'بےقصور': 'قصور',\n",
       " 'بےسلیقہ': 'سلیقہ',\n",
       " 'بےبنیاد': 'بنیاد',\n",
       " 'بےشک': 'شک',\n",
       " 'بےآدب': 'آدب',\n",
       " 'اہل علم': 'علم',\n",
       " 'اہل ہنر': 'ہنر',\n",
       " 'اہل وطن': 'وطن',\n",
       " 'اہل زبان': 'زبان',\n",
       " 'اہل کتاب': 'کتاب',\n",
       " 'کم ظرف': 'ظرف',\n",
       " 'نام ور': 'نام',\n",
       " 'طاقت ور': 'طاقت',\n",
       " 'بےایمان': 'ایمان',\n",
       " 'لاجواب': 'جواب',\n",
       " 'لاعلاج': 'علاج',\n",
       " 'ناخوش': 'خوش',\n",
       " 'ناپاک': 'پاک',\n",
       " 'بلیاں': 'بلی',\n",
       " 'علاقوں': 'علاقہ',\n",
       " 'ایماندار': 'ایمان',\n",
       " 'ناگوار': 'گوار',\n",
       " 'دل پسند': 'دل'}"
      ]
     },
     "execution_count": 14,
     "metadata": {},
     "output_type": "execute_result"
    }
   ],
   "source": [
    "allUrduAffixes"
   ]
  },
  {
   "cell_type": "code",
   "execution_count": null,
   "metadata": {},
   "outputs": [],
   "source": [
    "for sentence in allUrduAffixes:\n",
    "    urduWord = sentence\n",
    "    prefixFound = False\n",
    "    foundBothPrefixSuffix = False\n",
    "    # print(checkPrefix,checkSuffix)\n",
    "\n",
    "    if not foundBothPrefixSuffix:\n",
    "        for prefix in urduPrefixes:\n",
    "            checkPrefix = re.search(rf'\\A{prefix}', urduWord)\n",
    "            if checkPrefix:\n",
    "                predictedStem = urduWord[checkPrefix.span(0)[1]:]\n",
    "                prefixFound = True\n",
    "                realStem = remove(allUrduAffixes[sentence])\n",
    "                predictedStem = remove(predictedStem)\n",
    "                if predictedStem == realStem:\n",
    "                    totalCorrectGuessed = totalCorrectGuessed + 1\n",
    "                else:\n",
    "                    temp = {\n",
    "                        \"realStem\": realStem,\n",
    "                        \"predictedStem\": predictedStem,\n",
    "                    }\n",
    "                    wrongGuessedStem[urduWord] = temp\n",
    "                break\n",
    "\n",
    "        if not prefixFound:\n",
    "            for suffix in urduSuffixes:\n",
    "                checkSuffix = re.search(rf\"{suffix}\\Z\", urduWord)\n",
    "                if checkSuffix:\n",
    "                    predictedStem = urduWord[:checkSuffix.span(0)[0]]\n",
    "                    # print(predictedStem)\n",
    "                    realStem = remove(allUrduAffixes[sentence])\n",
    "                    predictedStem = remove(predictedStem)\n",
    "                    if predictedStem == realStem:\n",
    "                        totalCorrectGuessed = totalCorrectGuessed + 1\n",
    "                    else:\n",
    "                        temp = {\n",
    "                            \"realStem\": realStem,\n",
    "                            \"predictedStem\": predictedStem,\n",
    "                        }\n",
    "                        wrongGuessedStem[urduWord] = temp\n",
    "                    break\n",
    "\n",
    "print(\"Total num of words: \", totalWords)\n",
    "print(\"Total num of words correctly predicted: \", totalCorrectGuessed)\n",
    "print(\"Wrong Words List: \", wrongGuessedStem)\n",
    "print(\"Fitness Percentage: \", totalCorrectGuessed / totalWords * 100)"
   ]
  }
 ],
 "metadata": {
  "kernelspec": {
   "display_name": "TextClean",
   "language": "python",
   "name": "textclean"
  },
  "language_info": {
   "codemirror_mode": {
    "name": "ipython",
    "version": 3
   },
   "file_extension": ".py",
   "mimetype": "text/x-python",
   "name": "python",
   "nbconvert_exporter": "python",
   "pygments_lexer": "ipython3",
   "version": "3.11.4"
  },
  "orig_nbformat": 4
 },
 "nbformat": 4,
 "nbformat_minor": 2
}
